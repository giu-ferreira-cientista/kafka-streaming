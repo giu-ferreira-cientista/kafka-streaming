{
 "cells": [
  {
   "cell_type": "markdown",
   "metadata": {},
   "source": [
    "# Simple producer"
   ]
  },
  {
   "cell_type": "code",
   "execution_count": 1,
   "metadata": {},
   "outputs": [
    {
     "name": "stdout",
     "output_type": "stream",
     "text": [
      "Requirement already satisfied: kafka-python in /opt/conda/lib/python3.9/site-packages (2.0.2)\n"
     ]
    }
   ],
   "source": [
    "!pip install kafka-python"
   ]
  },
  {
   "cell_type": "code",
   "execution_count": 6,
   "metadata": {},
   "outputs": [],
   "source": [
    "import json\n",
    "from kafka import KafkaProducer\n",
    "\n",
    "# Create producer\n",
    "producer = KafkaProducer(\n",
    "    bootstrap_servers='kafka:29092', # kafka server ip address inspect - something like 172.23.0.5\n",
    "    value_serializer=lambda v: json.dumps(v).encode('utf-8') #json serializer\n",
    "    )\n"
   ]
  },
  {
   "cell_type": "code",
   "execution_count": 4,
   "metadata": {},
   "outputs": [
    {
     "data": {
      "text/plain": [
       "<kafka.producer.future.FutureRecordMetadata at 0x7f856833ee50>"
      ]
     },
     "execution_count": 4,
     "metadata": {},
     "output_type": "execute_result"
    }
   ],
   "source": [
    "\n",
    "topic_name = 'simple-topic'\n",
    "\n",
    "data = {\n",
    "        'id' : 1,\n",
    "        'nome' : 'simple'\n",
    "       }\n",
    "\n",
    "producer.send(topic_name, value=data)\n",
    "        \n"
   ]
  },
  {
   "cell_type": "code",
   "execution_count": null,
   "metadata": {},
   "outputs": [],
   "source": [
    "from time import sleep\n",
    "\n",
    "# Range Loop\n",
    "try:\n",
    "    for i in range(100):\n",
    "        data = {\n",
    "                'id' : i,\n",
    "                'nome' : 'simple-' + str(i)\n",
    "               }\n",
    "        producer.send(topic_name, value=data)\n",
    "        print('{} added'.format(data))\n",
    "\n",
    "        sleep(1)   \n",
    "        \n",
    "except KeyboardInterrupt:\n",
    "    print(\"process interrupted\")"
   ]
  },
  {
   "cell_type": "code",
   "execution_count": 9,
   "metadata": {},
   "outputs": [
    {
     "name": "stdout",
     "output_type": "stream",
     "text": [
      "{'id': 0, 'nome': 'simple-0'} added\n",
      "{'id': 1, 'nome': 'simple-1'} added\n",
      "{'id': 2, 'nome': 'simple-2'} added\n",
      "{'id': 3, 'nome': 'simple-3'} added\n",
      "{'id': 4, 'nome': 'simple-4'} added\n",
      "{'id': 5, 'nome': 'simple-5'} added\n",
      "{'id': 6, 'nome': 'simple-6'} added\n",
      "{'id': 7, 'nome': 'simple-7'} added\n",
      "{'id': 8, 'nome': 'simple-8'} added\n",
      "{'id': 9, 'nome': 'simple-9'} added\n",
      "{'id': 10, 'nome': 'simple-10'} added\n",
      "{'id': 11, 'nome': 'simple-11'} added\n",
      "{'id': 12, 'nome': 'simple-12'} added\n",
      "{'id': 13, 'nome': 'simple-13'} added\n",
      "{'id': 14, 'nome': 'simple-14'} added\n",
      "{'id': 15, 'nome': 'simple-15'} added\n",
      "{'id': 16, 'nome': 'simple-16'} added\n",
      "{'id': 17, 'nome': 'simple-17'} added\n",
      "{'id': 18, 'nome': 'simple-18'} added\n",
      "{'id': 19, 'nome': 'simple-19'} added\n",
      "{'id': 20, 'nome': 'simple-20'} added\n",
      "{'id': 21, 'nome': 'simple-21'} added\n",
      "{'id': 22, 'nome': 'simple-22'} added\n",
      "{'id': 23, 'nome': 'simple-23'} added\n",
      "{'id': 24, 'nome': 'simple-24'} added\n",
      "{'id': 25, 'nome': 'simple-25'} added\n",
      "{'id': 26, 'nome': 'simple-26'} added\n",
      "{'id': 27, 'nome': 'simple-27'} added\n",
      "{'id': 28, 'nome': 'simple-28'} added\n",
      "{'id': 29, 'nome': 'simple-29'} added\n",
      "{'id': 30, 'nome': 'simple-30'} added\n",
      "{'id': 31, 'nome': 'simple-31'} added\n",
      "{'id': 32, 'nome': 'simple-32'} added\n",
      "{'id': 33, 'nome': 'simple-33'} added\n",
      "{'id': 34, 'nome': 'simple-34'} added\n",
      "{'id': 35, 'nome': 'simple-35'} added\n",
      "{'id': 36, 'nome': 'simple-36'} added\n",
      "{'id': 37, 'nome': 'simple-37'} added\n",
      "{'id': 38, 'nome': 'simple-38'} added\n",
      "{'id': 39, 'nome': 'simple-39'} added\n",
      "{'id': 40, 'nome': 'simple-40'} added\n",
      "{'id': 41, 'nome': 'simple-41'} added\n",
      "{'id': 42, 'nome': 'simple-42'} added\n",
      "{'id': 43, 'nome': 'simple-43'} added\n",
      "{'id': 44, 'nome': 'simple-44'} added\n",
      "{'id': 45, 'nome': 'simple-45'} added\n",
      "{'id': 46, 'nome': 'simple-46'} added\n",
      "{'id': 47, 'nome': 'simple-47'} added\n",
      "{'id': 48, 'nome': 'simple-48'} added\n",
      "{'id': 49, 'nome': 'simple-49'} added\n",
      "{'id': 50, 'nome': 'simple-50'} added\n",
      "{'id': 51, 'nome': 'simple-51'} added\n",
      "{'id': 52, 'nome': 'simple-52'} added\n",
      "{'id': 53, 'nome': 'simple-53'} added\n",
      "{'id': 54, 'nome': 'simple-54'} added\n",
      "{'id': 55, 'nome': 'simple-55'} added\n",
      "{'id': 56, 'nome': 'simple-56'} added\n",
      "{'id': 57, 'nome': 'simple-57'} added\n",
      "{'id': 58, 'nome': 'simple-58'} added\n",
      "{'id': 59, 'nome': 'simple-59'} added\n",
      "{'id': 60, 'nome': 'simple-60'} added\n",
      "{'id': 61, 'nome': 'simple-61'} added\n",
      "{'id': 62, 'nome': 'simple-62'} added\n",
      "{'id': 63, 'nome': 'simple-63'} added\n",
      "{'id': 64, 'nome': 'simple-64'} added\n",
      "{'id': 65, 'nome': 'simple-65'} added\n",
      "{'id': 66, 'nome': 'simple-66'} added\n",
      "{'id': 67, 'nome': 'simple-67'} added\n",
      "{'id': 68, 'nome': 'simple-68'} added\n",
      "{'id': 69, 'nome': 'simple-69'} added\n",
      "{'id': 70, 'nome': 'simple-70'} added\n",
      "{'id': 71, 'nome': 'simple-71'} added\n",
      "{'id': 72, 'nome': 'simple-72'} added\n",
      "{'id': 73, 'nome': 'simple-73'} added\n",
      "{'id': 74, 'nome': 'simple-74'} added\n",
      "process interrupted\n"
     ]
    }
   ],
   "source": [
    "# Infinite Loop\n",
    "try:\n",
    "    i = 0\n",
    "    while True:\n",
    "        data = {\n",
    "                'id' : i,\n",
    "                'nome' : 'simple-' + str(i)\n",
    "               }\n",
    "        producer.send(topic_name, value=data)\n",
    "        print('{} added'.format(data))\n",
    "        i = i + 1\n",
    "        sleep(1)   \n",
    "        \n",
    "except KeyboardInterrupt:\n",
    "    print(\"process interrupted\")"
   ]
  },
  {
   "cell_type": "code",
   "execution_count": null,
   "metadata": {},
   "outputs": [],
   "source": []
  }
 ],
 "metadata": {
  "kernelspec": {
   "display_name": "Python 3",
   "language": "python",
   "name": "python3"
  },
  "language_info": {
   "codemirror_mode": {
    "name": "ipython",
    "version": 3
   },
   "file_extension": ".py",
   "mimetype": "text/x-python",
   "name": "python",
   "nbconvert_exporter": "python",
   "pygments_lexer": "ipython3",
   "version": "3.8.13 (default, Oct  4 2022, 14:00:32) \n[GCC 9.4.0]"
  },
  "vscode": {
   "interpreter": {
    "hash": "110cc1dee26208153f2972f08a2ad52b6a56238dc66d48e87fb757ef2996db56"
   }
  }
 },
 "nbformat": 4,
 "nbformat_minor": 4
}
